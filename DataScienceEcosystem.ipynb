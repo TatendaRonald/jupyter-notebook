{
 "cells": [
  {
   "cell_type": "markdown",
   "id": "5dc0e8f9",
   "metadata": {},
   "source": [
    "#Data science tools and ecosystem\n"
   ]
  },
  {
   "cell_type": "markdown",
   "id": "9a045656",
   "metadata": {},
   "source": [
    "in this notebook i will be sammarizing data science tools and ecosystems"
   ]
  },
  {
   "cell_type": "markdown",
   "id": "d194a033",
   "metadata": {},
   "source": [
    "some of the most popular languages that data scientists use are;\n",
    "1. SQL\n",
    "2. R\n",
    "3. PYTHON\n",
    "4. JAVA\n",
    "5. RUBY"
   ]
  },
  {
   "cell_type": "code",
   "execution_count": 7,
   "id": "3e189747",
   "metadata": {},
   "outputs": [
    {
     "ename": "SyntaxError",
     "evalue": "invalid syntax (1095348534.py, line 1)",
     "output_type": "error",
     "traceback": [
      "\u001b[1;36m  File \u001b[1;32m\"C:\\Users\\ronal\\AppData\\Local\\Temp\\ipykernel_20172\\1095348534.py\"\u001b[1;36m, line \u001b[1;32m1\u001b[0m\n\u001b[1;33m    some of the most popular libraries used by data scientists are;\u001b[0m\n\u001b[1;37m         ^\u001b[0m\n\u001b[1;31mSyntaxError\u001b[0m\u001b[1;31m:\u001b[0m invalid syntax\n"
     ]
    }
   ],
   "source": [
    "some of the most popular libraries used by data scientists are;\n",
    "1. numpy\n",
    "2. matplotlib\n",
    "3. pandas\n",
    "4. ggplot"
   ]
  },
  {
   "cell_type": "markdown",
   "id": "702b9e5d",
   "metadata": {},
   "source": [
    "|data science tools|\n",
    "-----\n",
    "|jupyter notebook|\n",
    "|r studio|\n",
    "|watson studio|"
   ]
  },
  {
   "cell_type": "markdown",
   "id": "de9288d6",
   "metadata": {},
   "source": [
    "###Below are a few examples of evaluating arithmetic expressions in Python."
   ]
  },
  {
   "cell_type": "code",
   "execution_count": 8,
   "id": "a0926e67",
   "metadata": {},
   "outputs": [
    {
     "data": {
      "text/plain": [
       "17"
      ]
     },
     "execution_count": 8,
     "metadata": {},
     "output_type": "execute_result"
    }
   ],
   "source": [
    "# this is a simple arithmetic expression to multipy then add intergers\n",
    "(3*4)+5"
   ]
  },
  {
   "cell_type": "code",
   "execution_count": 9,
   "id": "ee5a7d6a",
   "metadata": {},
   "outputs": [
    {
     "data": {
      "text/plain": [
       "3.3333333333333335"
      ]
     },
     "execution_count": 9,
     "metadata": {},
     "output_type": "execute_result"
    }
   ],
   "source": [
    "#this will convert 200mins to hours by deviding by 60\n",
    "200/60\n"
   ]
  },
  {
   "cell_type": "markdown",
   "id": "3a963ffe",
   "metadata": {},
   "source": [
    "__objectives__\n",
    "- programming languages\n",
    "- data science libraries\n",
    "- arithmetic expressions"
   ]
  },
  {
   "cell_type": "markdown",
   "id": "f83d44a9",
   "metadata": {},
   "source": [
    "## Aurthor\n",
    "tatenda sibanda"
   ]
  },
  {
   "cell_type": "code",
   "execution_count": null,
   "id": "8c56997b",
   "metadata": {},
   "outputs": [],
   "source": []
  }
 ],
 "metadata": {
  "kernelspec": {
   "display_name": "Python 3 (ipykernel)",
   "language": "python",
   "name": "python3"
  },
  "language_info": {
   "codemirror_mode": {
    "name": "ipython",
    "version": 3
   },
   "file_extension": ".py",
   "mimetype": "text/x-python",
   "name": "python",
   "nbconvert_exporter": "python",
   "pygments_lexer": "ipython3",
   "version": "3.9.13"
  }
 },
 "nbformat": 4,
 "nbformat_minor": 5
}
